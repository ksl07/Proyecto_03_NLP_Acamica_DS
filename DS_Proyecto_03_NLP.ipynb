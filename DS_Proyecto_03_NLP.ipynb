{
 "cells": [
  {
   "cell_type": "markdown",
   "metadata": {
    "id": "2GRQnxMzISE_"
   },
   "source": [
    "# Proyecto 03 - Procesamiento del Lenguaje Natural\n",
    "\n",
    "## Dataset: The Multilingual Amazon Reviews Corpus\n",
    "\n",
    "**Recuerda descargar el dataset de [aquí](https://github.com/kang205/SASRec). Es un archivo .zip que contiene tres documentos. Más información sobre el dataset [aquí](https://registry.opendata.aws/amazon-reviews-ml/). Es importante que tengas en cuenta la [licencia](https://docs.opendata.aws/amazon-reviews-ml/license.txt) de este dataset.**\n",
    "\n",
    "### Exploración de datos y Procesamiento del Lenguaje Natural\n",
    "\n",
    "Dedícale un buen tiempo a hacer un Análisis Exploratorio de Datos. Considera que hasta que no hayas aplicado las herramientas de Procesamiento del Lenguaje Natural vistas, será difícil completar este análisis. Elige preguntas que creas que puedas responder con este dataset. Por ejemplo, ¿qué palabras están asociadas a calificaciones positivas y qué palabras a calificaciones negativas?\n",
    "\n",
    "### Machine Learning\n",
    "\n",
    "Implementa un modelo que, dada la crítica de un producto, asigne la cantidad de estrellas correspondiente. **Para pensar**: ¿es un problema de Clasificación o de Regresión?\n",
    "\n",
    "1. Haz todas las transformaciones de datos que consideres necesarias. Justifica.\n",
    "1. Evalúa de forma apropiada sus resultados. Justifica la métrica elegida.\n",
    "1. Elige un modelo benchmark y compara tus resultados con este modelo.\n",
    "1. Optimiza los hiperparámetros de tu modelo.\n",
    "1. Intenta responder la pregunta: ¿Qué información está usando el modelo para predecir?\n",
    "\n",
    "**Recomendación:** si no te resulta conveniente trabajar en español con NLTK, te recomendamos que explores la librería [spaCy](https://spacy.io/).\n",
    "\n",
    "### Para pensar, investigar y, opcionalmente, implementar\n",
    "1. ¿Valdrá la pena convertir el problema de Machine Learning en un problema binario? Es decir, asignar únicamente las etiquetas Positiva y Negativa a cada crítica y hacer un modelo que, en lugar de predecir las estrellas, prediga esa etiqueta. Pensar en qué situación puede ser útil. ¿Esperas que el desempeño sea mejor o peor?\n",
    "1. ¿Hay algo que te gustaría investigar o probar?\n",
    "\n",
    "### **¡Tómate tiempo para investigar y leer mucho!**"
   ]
  },
  {
   "cell_type": "code",
   "execution_count": 1,
   "metadata": {
    "id": "x1GFwraSISFB"
   },
   "outputs": [
    {
     "name": "stderr",
     "output_type": "stream",
     "text": [
      "[nltk_data] Downloading package punkt to\n",
      "[nltk_data]     C:\\Users\\machk\\AppData\\Roaming\\nltk_data...\n",
      "[nltk_data]   Unzipping tokenizers\\punkt.zip.\n",
      "[nltk_data] Downloading package stopwords to\n",
      "[nltk_data]     C:\\Users\\machk\\AppData\\Roaming\\nltk_data...\n",
      "[nltk_data]   Unzipping corpora\\stopwords.zip.\n"
     ]
    }
   ],
   "source": [
    "# Impotamos todas las librerías que creemos hasta el momento podemos llegar a utilizar\n",
    "\n",
    "import itertools\n",
    "\n",
    "import numpy as np\n",
    "import pandas as pd\n",
    "from tqdm.notebook import tqdm\n",
    "import matplotlib.pyplot as plt\n",
    "import seaborn as sns\n",
    "sns.set()\n",
    "\n",
    "import nltk\n",
    "# Esto sirve para configurar NLTK. La primera vez puede tardar un poco\n",
    "nltk.download('punkt')\n",
    "nltk.download('stopwords')\n",
    "from nltk.corpus import webtext\n",
    "\n",
    "import spacy\n",
    "from time import time\n",
    "#nlp = spacy.load(\"es_core_news_sm\")\n",
    "\n",
    "from matplotlib.colors import ListedColormap\n",
    "from sklearn.model_selection import train_test_split\n"
   ]
  },
  {
   "cell_type": "markdown",
   "metadata": {},
   "source": [
    "## 1. Análisis exploratorio de los 3 dataset."
   ]
  },
  {
   "cell_type": "markdown",
   "metadata": {},
   "source": [
    "***Cargamos los 3 dataset Train , Test y  Dev .Detallamos lo que realizamos en la exploración.***\n",
    "\n",
    "***Tenemos 8 columnas en cada uno con información importante, que detallamos. \n",
    "Algunas de ellas las vamos a ignorar ya que no aportan a nuestro proyecto, estableciendo un pre filtrado.***\n",
    "\n",
    "***0_review_id - es un codigo por cada instancia o review de un producto adquirido, es un valor único.***\n",
    "\n",
    "***1_product_id - es un valor unico para cada producto y cada producto puede tener multiples reviews.***\n",
    "\n",
    "***2_reviewer_id - es un valor único para cada reviewer y existen reviewers que califican varios productos.***\n",
    "\n",
    "***3_stars - Escala del 1 al 5 en la puntuación otorgada por el comprador.***\n",
    "\n",
    "***4_review_body - Descripción más en detalle de la review.***\n",
    "\n",
    "***5_review_title - Corresponde al título. una descripción mínima.***\n",
    "\n",
    "***6_language - Informa el idioma, que es el español, el cual no cambia.***\n",
    "\n",
    "***7_product_category - Hay 30 categorias y estan presentes en los 3 datasets.***\n"
   ]
  },
  {
   "cell_type": "code",
   "execution_count": 3,
   "metadata": {},
   "outputs": [
    {
     "data": {
      "text/html": [
       "<div>\n",
       "<style scoped>\n",
       "    .dataframe tbody tr th:only-of-type {\n",
       "        vertical-align: middle;\n",
       "    }\n",
       "\n",
       "    .dataframe tbody tr th {\n",
       "        vertical-align: top;\n",
       "    }\n",
       "\n",
       "    .dataframe thead th {\n",
       "        text-align: right;\n",
       "    }\n",
       "</style>\n",
       "<table border=\"1\" class=\"dataframe\">\n",
       "  <thead>\n",
       "    <tr style=\"text-align: right;\">\n",
       "      <th></th>\n",
       "      <th>review_id</th>\n",
       "      <th>product_id</th>\n",
       "      <th>reviewer_id</th>\n",
       "      <th>stars</th>\n",
       "      <th>review_body</th>\n",
       "      <th>review_title</th>\n",
       "      <th>language</th>\n",
       "      <th>product_category</th>\n",
       "    </tr>\n",
       "  </thead>\n",
       "  <tbody>\n",
       "    <tr>\n",
       "      <th>0</th>\n",
       "      <td>es_0491108</td>\n",
       "      <td>product_es_0296024</td>\n",
       "      <td>reviewer_es_0999081</td>\n",
       "      <td>1</td>\n",
       "      <td>Nada bueno se me fue ka pantalla en menos de 8...</td>\n",
       "      <td>television Nevir</td>\n",
       "      <td>es</td>\n",
       "      <td>electronics</td>\n",
       "    </tr>\n",
       "    <tr>\n",
       "      <th>1</th>\n",
       "      <td>es_0869872</td>\n",
       "      <td>product_es_0922286</td>\n",
       "      <td>reviewer_es_0216771</td>\n",
       "      <td>1</td>\n",
       "      <td>Horrible, nos tuvimos que comprar otro porque ...</td>\n",
       "      <td>Dinero tirado a la basura con esta compra</td>\n",
       "      <td>es</td>\n",
       "      <td>electronics</td>\n",
       "    </tr>\n",
       "    <tr>\n",
       "      <th>2</th>\n",
       "      <td>es_0811721</td>\n",
       "      <td>product_es_0474543</td>\n",
       "      <td>reviewer_es_0929213</td>\n",
       "      <td>1</td>\n",
       "      <td>Te obligan a comprar dos unidades y te llega s...</td>\n",
       "      <td>solo llega una unidad cuando te obligan a comp...</td>\n",
       "      <td>es</td>\n",
       "      <td>drugstore</td>\n",
       "    </tr>\n",
       "    <tr>\n",
       "      <th>3</th>\n",
       "      <td>es_0359921</td>\n",
       "      <td>product_es_0656090</td>\n",
       "      <td>reviewer_es_0224702</td>\n",
       "      <td>1</td>\n",
       "      <td>No entro en descalificar al vendedor, solo pue...</td>\n",
       "      <td>PRODUCTO NO RECIBIDO.</td>\n",
       "      <td>es</td>\n",
       "      <td>wireless</td>\n",
       "    </tr>\n",
       "    <tr>\n",
       "      <th>4</th>\n",
       "      <td>es_0068940</td>\n",
       "      <td>product_es_0662544</td>\n",
       "      <td>reviewer_es_0224827</td>\n",
       "      <td>1</td>\n",
       "      <td>Llega tarde y co la talla equivocada</td>\n",
       "      <td>Devuelto</td>\n",
       "      <td>es</td>\n",
       "      <td>shoes</td>\n",
       "    </tr>\n",
       "    <tr>\n",
       "      <th>...</th>\n",
       "      <td>...</td>\n",
       "      <td>...</td>\n",
       "      <td>...</td>\n",
       "      <td>...</td>\n",
       "      <td>...</td>\n",
       "      <td>...</td>\n",
       "      <td>...</td>\n",
       "      <td>...</td>\n",
       "    </tr>\n",
       "    <tr>\n",
       "      <th>199995</th>\n",
       "      <td>es_0715276</td>\n",
       "      <td>product_es_0317036</td>\n",
       "      <td>reviewer_es_0643604</td>\n",
       "      <td>5</td>\n",
       "      <td>Mando funciona perfectamente y cumple con toda...</td>\n",
       "      <td>Tal y como se describe</td>\n",
       "      <td>es</td>\n",
       "      <td>electronics</td>\n",
       "    </tr>\n",
       "    <tr>\n",
       "      <th>199996</th>\n",
       "      <td>es_0085190</td>\n",
       "      <td>product_es_0622919</td>\n",
       "      <td>reviewer_es_0466173</td>\n",
       "      <td>5</td>\n",
       "      <td>Compré la batería con cierta reticencia, pero ...</td>\n",
       "      <td>Funciona perfectamente</td>\n",
       "      <td>es</td>\n",
       "      <td>electronics</td>\n",
       "    </tr>\n",
       "    <tr>\n",
       "      <th>199997</th>\n",
       "      <td>es_0484496</td>\n",
       "      <td>product_es_0358101</td>\n",
       "      <td>reviewer_es_0330744</td>\n",
       "      <td>5</td>\n",
       "      <td>Buena calidad. Satisfecha con la compra.</td>\n",
       "      <td>Buena calidad.</td>\n",
       "      <td>es</td>\n",
       "      <td>apparel</td>\n",
       "    </tr>\n",
       "    <tr>\n",
       "      <th>199998</th>\n",
       "      <td>es_0930141</td>\n",
       "      <td>product_es_0788855</td>\n",
       "      <td>reviewer_es_0694290</td>\n",
       "      <td>5</td>\n",
       "      <td>Perfecto para el cumple de mi hijo</td>\n",
       "      <td>Recomendado</td>\n",
       "      <td>es</td>\n",
       "      <td>toy</td>\n",
       "    </tr>\n",
       "    <tr>\n",
       "      <th>199999</th>\n",
       "      <td>es_0859809</td>\n",
       "      <td>product_es_0378794</td>\n",
       "      <td>reviewer_es_0141717</td>\n",
       "      <td>5</td>\n",
       "      <td>Súper bien! Las brochas son buenas, no sé meno...</td>\n",
       "      <td>Preciosas</td>\n",
       "      <td>es</td>\n",
       "      <td>home</td>\n",
       "    </tr>\n",
       "  </tbody>\n",
       "</table>\n",
       "<p>200000 rows × 8 columns</p>\n",
       "</div>"
      ],
      "text/plain": [
       "         review_id          product_id          reviewer_id  stars  \\\n",
       "0       es_0491108  product_es_0296024  reviewer_es_0999081      1   \n",
       "1       es_0869872  product_es_0922286  reviewer_es_0216771      1   \n",
       "2       es_0811721  product_es_0474543  reviewer_es_0929213      1   \n",
       "3       es_0359921  product_es_0656090  reviewer_es_0224702      1   \n",
       "4       es_0068940  product_es_0662544  reviewer_es_0224827      1   \n",
       "...            ...                 ...                  ...    ...   \n",
       "199995  es_0715276  product_es_0317036  reviewer_es_0643604      5   \n",
       "199996  es_0085190  product_es_0622919  reviewer_es_0466173      5   \n",
       "199997  es_0484496  product_es_0358101  reviewer_es_0330744      5   \n",
       "199998  es_0930141  product_es_0788855  reviewer_es_0694290      5   \n",
       "199999  es_0859809  product_es_0378794  reviewer_es_0141717      5   \n",
       "\n",
       "                                              review_body  \\\n",
       "0       Nada bueno se me fue ka pantalla en menos de 8...   \n",
       "1       Horrible, nos tuvimos que comprar otro porque ...   \n",
       "2       Te obligan a comprar dos unidades y te llega s...   \n",
       "3       No entro en descalificar al vendedor, solo pue...   \n",
       "4                    Llega tarde y co la talla equivocada   \n",
       "...                                                   ...   \n",
       "199995  Mando funciona perfectamente y cumple con toda...   \n",
       "199996  Compré la batería con cierta reticencia, pero ...   \n",
       "199997           Buena calidad. Satisfecha con la compra.   \n",
       "199998                 Perfecto para el cumple de mi hijo   \n",
       "199999  Súper bien! Las brochas son buenas, no sé meno...   \n",
       "\n",
       "                                             review_title language  \\\n",
       "0                                        television Nevir       es   \n",
       "1               Dinero tirado a la basura con esta compra       es   \n",
       "2       solo llega una unidad cuando te obligan a comp...       es   \n",
       "3                                   PRODUCTO NO RECIBIDO.       es   \n",
       "4                                                Devuelto       es   \n",
       "...                                                   ...      ...   \n",
       "199995                             Tal y como se describe       es   \n",
       "199996                             Funciona perfectamente       es   \n",
       "199997                                     Buena calidad.       es   \n",
       "199998                                        Recomendado       es   \n",
       "199999                                          Preciosas       es   \n",
       "\n",
       "       product_category  \n",
       "0           electronics  \n",
       "1           electronics  \n",
       "2             drugstore  \n",
       "3              wireless  \n",
       "4                 shoes  \n",
       "...                 ...  \n",
       "199995      electronics  \n",
       "199996      electronics  \n",
       "199997          apparel  \n",
       "199998              toy  \n",
       "199999             home  \n",
       "\n",
       "[200000 rows x 8 columns]"
      ]
     },
     "execution_count": 3,
     "metadata": {},
     "output_type": "execute_result"
    }
   ],
   "source": [
    "df_train= pd.read_json('amazon/dataset_es_train.json', lines= True)\n",
    "df_train"
   ]
  },
  {
   "cell_type": "code",
   "execution_count": 4,
   "metadata": {},
   "outputs": [
    {
     "name": "stdout",
     "output_type": "stream",
     "text": [
      "90851 Bien por el precio\n"
     ]
    }
   ],
   "source": [
    "#Elegimos una instancia del dataset al azar de cada uno y seleccionamos el *headline*\n",
    "\n",
    "index_random = np.random.randint(0,high = df_train.shape[0])\n",
    "titular = df_train.iloc[index_random].review_title\n",
    "print(index_random, titular)"
   ]
  },
  {
   "cell_type": "code",
   "execution_count": 5,
   "metadata": {},
   "outputs": [
    {
     "data": {
      "text/html": [
       "<div>\n",
       "<style scoped>\n",
       "    .dataframe tbody tr th:only-of-type {\n",
       "        vertical-align: middle;\n",
       "    }\n",
       "\n",
       "    .dataframe tbody tr th {\n",
       "        vertical-align: top;\n",
       "    }\n",
       "\n",
       "    .dataframe thead th {\n",
       "        text-align: right;\n",
       "    }\n",
       "</style>\n",
       "<table border=\"1\" class=\"dataframe\">\n",
       "  <thead>\n",
       "    <tr style=\"text-align: right;\">\n",
       "      <th></th>\n",
       "      <th>review_id</th>\n",
       "      <th>product_id</th>\n",
       "      <th>reviewer_id</th>\n",
       "      <th>stars</th>\n",
       "      <th>review_body</th>\n",
       "      <th>review_title</th>\n",
       "      <th>language</th>\n",
       "      <th>product_category</th>\n",
       "    </tr>\n",
       "  </thead>\n",
       "  <tbody>\n",
       "    <tr>\n",
       "      <th>0</th>\n",
       "      <td>es_0417480</td>\n",
       "      <td>product_es_0873923</td>\n",
       "      <td>reviewer_es_0672978</td>\n",
       "      <td>1</td>\n",
       "      <td>Malisimo, muy grande demasiado aparatoso y mal...</td>\n",
       "      <td>Mala compra</td>\n",
       "      <td>es</td>\n",
       "      <td>wireless</td>\n",
       "    </tr>\n",
       "    <tr>\n",
       "      <th>1</th>\n",
       "      <td>es_0180432</td>\n",
       "      <td>product_es_0713146</td>\n",
       "      <td>reviewer_es_0100858</td>\n",
       "      <td>1</td>\n",
       "      <td>No he recibido el pedido no la devolución</td>\n",
       "      <td>No lo he recibido</td>\n",
       "      <td>es</td>\n",
       "      <td>apparel</td>\n",
       "    </tr>\n",
       "    <tr>\n",
       "      <th>2</th>\n",
       "      <td>es_0144850</td>\n",
       "      <td>product_es_0356874</td>\n",
       "      <td>reviewer_es_0486447</td>\n",
       "      <td>1</td>\n",
       "      <td>Tengo que buscar otro sistema, este no funcion...</td>\n",
       "      <td>Que no aprieta bien en el manillar</td>\n",
       "      <td>es</td>\n",
       "      <td>sports</td>\n",
       "    </tr>\n",
       "    <tr>\n",
       "      <th>3</th>\n",
       "      <td>es_0339629</td>\n",
       "      <td>product_es_0939832</td>\n",
       "      <td>reviewer_es_0894703</td>\n",
       "      <td>1</td>\n",
       "      <td>Utilicé las brocas de menor diámetro y se me d...</td>\n",
       "      <td>Brocas de mantequilla</td>\n",
       "      <td>es</td>\n",
       "      <td>home_improvement</td>\n",
       "    </tr>\n",
       "    <tr>\n",
       "      <th>4</th>\n",
       "      <td>es_0858362</td>\n",
       "      <td>product_es_0489066</td>\n",
       "      <td>reviewer_es_0887663</td>\n",
       "      <td>1</td>\n",
       "      <td>No me gusta su olor a viejo y aspecto malo</td>\n",
       "      <td>No me gusta</td>\n",
       "      <td>es</td>\n",
       "      <td>beauty</td>\n",
       "    </tr>\n",
       "    <tr>\n",
       "      <th>...</th>\n",
       "      <td>...</td>\n",
       "      <td>...</td>\n",
       "      <td>...</td>\n",
       "      <td>...</td>\n",
       "      <td>...</td>\n",
       "      <td>...</td>\n",
       "      <td>...</td>\n",
       "      <td>...</td>\n",
       "    </tr>\n",
       "    <tr>\n",
       "      <th>4995</th>\n",
       "      <td>es_0179515</td>\n",
       "      <td>product_es_0158275</td>\n",
       "      <td>reviewer_es_0273644</td>\n",
       "      <td>5</td>\n",
       "      <td>Me ha encantado la cesta. Ha llegado impecable...</td>\n",
       "      <td>guadalupe</td>\n",
       "      <td>es</td>\n",
       "      <td>home</td>\n",
       "    </tr>\n",
       "    <tr>\n",
       "      <th>4996</th>\n",
       "      <td>es_0894902</td>\n",
       "      <td>product_es_0953259</td>\n",
       "      <td>reviewer_es_0153773</td>\n",
       "      <td>5</td>\n",
       "      <td>Desempeña su función correctamente</td>\n",
       "      <td>calidad precio</td>\n",
       "      <td>es</td>\n",
       "      <td>camera</td>\n",
       "    </tr>\n",
       "    <tr>\n",
       "      <th>4997</th>\n",
       "      <td>es_0760496</td>\n",
       "      <td>product_es_0731995</td>\n",
       "      <td>reviewer_es_0171091</td>\n",
       "      <td>5</td>\n",
       "      <td>Me ha encantado la diadema! Las flores son tal...</td>\n",
       "      <td>Excelente</td>\n",
       "      <td>es</td>\n",
       "      <td>toy</td>\n",
       "    </tr>\n",
       "    <tr>\n",
       "      <th>4998</th>\n",
       "      <td>es_0178380</td>\n",
       "      <td>product_es_0402051</td>\n",
       "      <td>reviewer_es_0686937</td>\n",
       "      <td>5</td>\n",
       "      <td>A mi me gustan mucho las fundas TPU, ya que so...</td>\n",
       "      <td>Genial</td>\n",
       "      <td>es</td>\n",
       "      <td>wireless</td>\n",
       "    </tr>\n",
       "    <tr>\n",
       "      <th>4999</th>\n",
       "      <td>es_0810087</td>\n",
       "      <td>product_es_0684221</td>\n",
       "      <td>reviewer_es_0613091</td>\n",
       "      <td>5</td>\n",
       "      <td>El artículo ha cumplido con las expectativas q...</td>\n",
       "      <td>Buena calidad</td>\n",
       "      <td>es</td>\n",
       "      <td>apparel</td>\n",
       "    </tr>\n",
       "  </tbody>\n",
       "</table>\n",
       "<p>5000 rows × 8 columns</p>\n",
       "</div>"
      ],
      "text/plain": [
       "       review_id          product_id          reviewer_id  stars  \\\n",
       "0     es_0417480  product_es_0873923  reviewer_es_0672978      1   \n",
       "1     es_0180432  product_es_0713146  reviewer_es_0100858      1   \n",
       "2     es_0144850  product_es_0356874  reviewer_es_0486447      1   \n",
       "3     es_0339629  product_es_0939832  reviewer_es_0894703      1   \n",
       "4     es_0858362  product_es_0489066  reviewer_es_0887663      1   \n",
       "...          ...                 ...                  ...    ...   \n",
       "4995  es_0179515  product_es_0158275  reviewer_es_0273644      5   \n",
       "4996  es_0894902  product_es_0953259  reviewer_es_0153773      5   \n",
       "4997  es_0760496  product_es_0731995  reviewer_es_0171091      5   \n",
       "4998  es_0178380  product_es_0402051  reviewer_es_0686937      5   \n",
       "4999  es_0810087  product_es_0684221  reviewer_es_0613091      5   \n",
       "\n",
       "                                            review_body  \\\n",
       "0     Malisimo, muy grande demasiado aparatoso y mal...   \n",
       "1             No he recibido el pedido no la devolución   \n",
       "2     Tengo que buscar otro sistema, este no funcion...   \n",
       "3     Utilicé las brocas de menor diámetro y se me d...   \n",
       "4            No me gusta su olor a viejo y aspecto malo   \n",
       "...                                                 ...   \n",
       "4995  Me ha encantado la cesta. Ha llegado impecable...   \n",
       "4996                 Desempeña su función correctamente   \n",
       "4997  Me ha encantado la diadema! Las flores son tal...   \n",
       "4998  A mi me gustan mucho las fundas TPU, ya que so...   \n",
       "4999  El artículo ha cumplido con las expectativas q...   \n",
       "\n",
       "                            review_title language  product_category  \n",
       "0                            Mala compra       es          wireless  \n",
       "1                      No lo he recibido       es           apparel  \n",
       "2     Que no aprieta bien en el manillar       es            sports  \n",
       "3                  Brocas de mantequilla       es  home_improvement  \n",
       "4                            No me gusta       es            beauty  \n",
       "...                                  ...      ...               ...  \n",
       "4995                           guadalupe       es              home  \n",
       "4996                      calidad precio       es            camera  \n",
       "4997                           Excelente       es               toy  \n",
       "4998                              Genial       es          wireless  \n",
       "4999                       Buena calidad       es           apparel  \n",
       "\n",
       "[5000 rows x 8 columns]"
      ]
     },
     "execution_count": 5,
     "metadata": {},
     "output_type": "execute_result"
    }
   ],
   "source": [
    "df_dev= pd.read_json('amazon/dataset_es_dev.json', lines= True)\n",
    "df_dev"
   ]
  },
  {
   "cell_type": "code",
   "execution_count": 6,
   "metadata": {},
   "outputs": [
    {
     "data": {
      "text/html": [
       "<div>\n",
       "<style scoped>\n",
       "    .dataframe tbody tr th:only-of-type {\n",
       "        vertical-align: middle;\n",
       "    }\n",
       "\n",
       "    .dataframe tbody tr th {\n",
       "        vertical-align: top;\n",
       "    }\n",
       "\n",
       "    .dataframe thead th {\n",
       "        text-align: right;\n",
       "    }\n",
       "</style>\n",
       "<table border=\"1\" class=\"dataframe\">\n",
       "  <thead>\n",
       "    <tr style=\"text-align: right;\">\n",
       "      <th></th>\n",
       "      <th>review_id</th>\n",
       "      <th>product_id</th>\n",
       "      <th>reviewer_id</th>\n",
       "      <th>stars</th>\n",
       "      <th>review_body</th>\n",
       "      <th>review_title</th>\n",
       "      <th>language</th>\n",
       "      <th>product_category</th>\n",
       "    </tr>\n",
       "  </thead>\n",
       "  <tbody>\n",
       "    <tr>\n",
       "      <th>0</th>\n",
       "      <td>es_0038754</td>\n",
       "      <td>product_es_0113523</td>\n",
       "      <td>reviewer_es_0580071</td>\n",
       "      <td>1</td>\n",
       "      <td>no me llego el articulo me lo mando por correo...</td>\n",
       "      <td>no me llego</td>\n",
       "      <td>es</td>\n",
       "      <td>wireless</td>\n",
       "    </tr>\n",
       "    <tr>\n",
       "      <th>1</th>\n",
       "      <td>es_0748979</td>\n",
       "      <td>product_es_0017036</td>\n",
       "      <td>reviewer_es_0819733</td>\n",
       "      <td>1</td>\n",
       "      <td>la mensajería horrible, no compro mas</td>\n",
       "      <td>amazon sigue sin cumplir en las entregas</td>\n",
       "      <td>es</td>\n",
       "      <td>home</td>\n",
       "    </tr>\n",
       "    <tr>\n",
       "      <th>2</th>\n",
       "      <td>es_0411746</td>\n",
       "      <td>product_es_0138642</td>\n",
       "      <td>reviewer_es_0508607</td>\n",
       "      <td>1</td>\n",
       "      <td>Estoy muy decepcionado con el vendedor ya que ...</td>\n",
       "      <td>ESTAFA EN EL ENVÍO</td>\n",
       "      <td>es</td>\n",
       "      <td>toy</td>\n",
       "    </tr>\n",
       "    <tr>\n",
       "      <th>3</th>\n",
       "      <td>es_0786686</td>\n",
       "      <td>product_es_0170887</td>\n",
       "      <td>reviewer_es_0491157</td>\n",
       "      <td>1</td>\n",
       "      <td>Mi valoración no es sobre el producto sino sob...</td>\n",
       "      <td>Estafa de Amazon</td>\n",
       "      <td>es</td>\n",
       "      <td>home</td>\n",
       "    </tr>\n",
       "    <tr>\n",
       "      <th>4</th>\n",
       "      <td>es_0429700</td>\n",
       "      <td>product_es_0710642</td>\n",
       "      <td>reviewer_es_0008745</td>\n",
       "      <td>1</td>\n",
       "      <td>Pues tenía interés en este libro y probé la ve...</td>\n",
       "      <td>No conseguí pasar de la portada en Kindle</td>\n",
       "      <td>es</td>\n",
       "      <td>digital_ebook_purchase</td>\n",
       "    </tr>\n",
       "    <tr>\n",
       "      <th>...</th>\n",
       "      <td>...</td>\n",
       "      <td>...</td>\n",
       "      <td>...</td>\n",
       "      <td>...</td>\n",
       "      <td>...</td>\n",
       "      <td>...</td>\n",
       "      <td>...</td>\n",
       "      <td>...</td>\n",
       "    </tr>\n",
       "    <tr>\n",
       "      <th>4995</th>\n",
       "      <td>es_0685611</td>\n",
       "      <td>product_es_0919143</td>\n",
       "      <td>reviewer_es_0461769</td>\n",
       "      <td>5</td>\n",
       "      <td>Para lo que cuesta es perfecto porque cumple s...</td>\n",
       "      <td>Perfectos para lo que sirven</td>\n",
       "      <td>es</td>\n",
       "      <td>wireless</td>\n",
       "    </tr>\n",
       "    <tr>\n",
       "      <th>4996</th>\n",
       "      <td>es_0638242</td>\n",
       "      <td>product_es_0636134</td>\n",
       "      <td>reviewer_es_0214562</td>\n",
       "      <td>5</td>\n",
       "      <td>Material muy flexible y cómodo, acorde a la de...</td>\n",
       "      <td>Buen vendedor, rápido y fiable.</td>\n",
       "      <td>es</td>\n",
       "      <td>wireless</td>\n",
       "    </tr>\n",
       "    <tr>\n",
       "      <th>4997</th>\n",
       "      <td>es_0760108</td>\n",
       "      <td>product_es_0078583</td>\n",
       "      <td>reviewer_es_0043609</td>\n",
       "      <td>5</td>\n",
       "      <td>Se ve bien el grabado</td>\n",
       "      <td>medallas con bonito grabado</td>\n",
       "      <td>es</td>\n",
       "      <td>home</td>\n",
       "    </tr>\n",
       "    <tr>\n",
       "      <th>4998</th>\n",
       "      <td>es_0070806</td>\n",
       "      <td>product_es_0359350</td>\n",
       "      <td>reviewer_es_0258717</td>\n",
       "      <td>5</td>\n",
       "      <td>lo compré para mi bici pero finalmente se lo h...</td>\n",
       "      <td>timbre</td>\n",
       "      <td>es</td>\n",
       "      <td>sports</td>\n",
       "    </tr>\n",
       "    <tr>\n",
       "      <th>4999</th>\n",
       "      <td>es_0794544</td>\n",
       "      <td>product_es_0130307</td>\n",
       "      <td>reviewer_es_0651938</td>\n",
       "      <td>5</td>\n",
       "      <td>Pues este tipo de cascos si que son inalambric...</td>\n",
       "      <td>Auriculares sin cables de verdad</td>\n",
       "      <td>es</td>\n",
       "      <td>electronics</td>\n",
       "    </tr>\n",
       "  </tbody>\n",
       "</table>\n",
       "<p>5000 rows × 8 columns</p>\n",
       "</div>"
      ],
      "text/plain": [
       "       review_id          product_id          reviewer_id  stars  \\\n",
       "0     es_0038754  product_es_0113523  reviewer_es_0580071      1   \n",
       "1     es_0748979  product_es_0017036  reviewer_es_0819733      1   \n",
       "2     es_0411746  product_es_0138642  reviewer_es_0508607      1   \n",
       "3     es_0786686  product_es_0170887  reviewer_es_0491157      1   \n",
       "4     es_0429700  product_es_0710642  reviewer_es_0008745      1   \n",
       "...          ...                 ...                  ...    ...   \n",
       "4995  es_0685611  product_es_0919143  reviewer_es_0461769      5   \n",
       "4996  es_0638242  product_es_0636134  reviewer_es_0214562      5   \n",
       "4997  es_0760108  product_es_0078583  reviewer_es_0043609      5   \n",
       "4998  es_0070806  product_es_0359350  reviewer_es_0258717      5   \n",
       "4999  es_0794544  product_es_0130307  reviewer_es_0651938      5   \n",
       "\n",
       "                                            review_body  \\\n",
       "0     no me llego el articulo me lo mando por correo...   \n",
       "1                 la mensajería horrible, no compro mas   \n",
       "2     Estoy muy decepcionado con el vendedor ya que ...   \n",
       "3     Mi valoración no es sobre el producto sino sob...   \n",
       "4     Pues tenía interés en este libro y probé la ve...   \n",
       "...                                                 ...   \n",
       "4995  Para lo que cuesta es perfecto porque cumple s...   \n",
       "4996  Material muy flexible y cómodo, acorde a la de...   \n",
       "4997                              Se ve bien el grabado   \n",
       "4998  lo compré para mi bici pero finalmente se lo h...   \n",
       "4999  Pues este tipo de cascos si que son inalambric...   \n",
       "\n",
       "                                   review_title language  \\\n",
       "0                                   no me llego       es   \n",
       "1      amazon sigue sin cumplir en las entregas       es   \n",
       "2                            ESTAFA EN EL ENVÍO       es   \n",
       "3                              Estafa de Amazon       es   \n",
       "4     No conseguí pasar de la portada en Kindle       es   \n",
       "...                                         ...      ...   \n",
       "4995               Perfectos para lo que sirven       es   \n",
       "4996            Buen vendedor, rápido y fiable.       es   \n",
       "4997                medallas con bonito grabado       es   \n",
       "4998                                     timbre       es   \n",
       "4999           Auriculares sin cables de verdad       es   \n",
       "\n",
       "            product_category  \n",
       "0                   wireless  \n",
       "1                       home  \n",
       "2                        toy  \n",
       "3                       home  \n",
       "4     digital_ebook_purchase  \n",
       "...                      ...  \n",
       "4995                wireless  \n",
       "4996                wireless  \n",
       "4997                    home  \n",
       "4998                  sports  \n",
       "4999             electronics  \n",
       "\n",
       "[5000 rows x 8 columns]"
      ]
     },
     "execution_count": 6,
     "metadata": {},
     "output_type": "execute_result"
    }
   ],
   "source": [
    "df_test= pd.read_json('amazon/dataset_es_test.json', lines= True)\n",
    "df_test"
   ]
  },
  {
   "cell_type": "code",
   "execution_count": 7,
   "metadata": {},
   "outputs": [
    {
     "data": {
      "text/plain": [
       "'Pues tenía interés en este libro y probé la versión kindle. se abre la portada pero nada más. parece una mala broma pero me iba a gastar el dedo de tanto tratar que pasara de página de alguna forma. No puedo valorar nada de nada.'"
      ]
     },
     "execution_count": 7,
     "metadata": {},
     "output_type": "execute_result"
    }
   ],
   "source": [
    "# Ejemplo review_body\n",
    "df_test.iloc[4,4]"
   ]
  },
  {
   "cell_type": "code",
   "execution_count": 8,
   "metadata": {},
   "outputs": [
    {
     "name": "stdout",
     "output_type": "stream",
     "text": [
      "<class 'pandas.core.frame.DataFrame'>\n",
      "RangeIndex: 200000 entries, 0 to 199999\n",
      "Data columns (total 8 columns):\n",
      " #   Column            Non-Null Count   Dtype \n",
      "---  ------            --------------   ----- \n",
      " 0   review_id         200000 non-null  object\n",
      " 1   product_id        200000 non-null  object\n",
      " 2   reviewer_id       200000 non-null  object\n",
      " 3   stars             200000 non-null  int64 \n",
      " 4   review_body       200000 non-null  object\n",
      " 5   review_title      200000 non-null  object\n",
      " 6   language          200000 non-null  object\n",
      " 7   product_category  200000 non-null  object\n",
      "dtypes: int64(1), object(7)\n",
      "memory usage: 12.2+ MB\n"
     ]
    }
   ],
   "source": [
    "df_train.info()  # info ya nos informa que no hay valores nulos en este dataset"
   ]
  },
  {
   "cell_type": "code",
   "execution_count": 9,
   "metadata": {},
   "outputs": [
    {
     "name": "stdout",
     "output_type": "stream",
     "text": [
      "<class 'pandas.core.frame.DataFrame'>\n",
      "RangeIndex: 5000 entries, 0 to 4999\n",
      "Data columns (total 8 columns):\n",
      " #   Column            Non-Null Count  Dtype \n",
      "---  ------            --------------  ----- \n",
      " 0   review_id         5000 non-null   object\n",
      " 1   product_id        5000 non-null   object\n",
      " 2   reviewer_id       5000 non-null   object\n",
      " 3   stars             5000 non-null   int64 \n",
      " 4   review_body       5000 non-null   object\n",
      " 5   review_title      5000 non-null   object\n",
      " 6   language          5000 non-null   object\n",
      " 7   product_category  5000 non-null   object\n",
      "dtypes: int64(1), object(7)\n",
      "memory usage: 312.6+ KB\n"
     ]
    }
   ],
   "source": [
    "df_dev.info()    # info ya nos informa que no hay valores nulos en este dataset"
   ]
  },
  {
   "cell_type": "code",
   "execution_count": 10,
   "metadata": {},
   "outputs": [
    {
     "name": "stdout",
     "output_type": "stream",
     "text": [
      "<class 'pandas.core.frame.DataFrame'>\n",
      "RangeIndex: 5000 entries, 0 to 4999\n",
      "Data columns (total 8 columns):\n",
      " #   Column            Non-Null Count  Dtype \n",
      "---  ------            --------------  ----- \n",
      " 0   review_id         5000 non-null   object\n",
      " 1   product_id        5000 non-null   object\n",
      " 2   reviewer_id       5000 non-null   object\n",
      " 3   stars             5000 non-null   int64 \n",
      " 4   review_body       5000 non-null   object\n",
      " 5   review_title      5000 non-null   object\n",
      " 6   language          5000 non-null   object\n",
      " 7   product_category  5000 non-null   object\n",
      "dtypes: int64(1), object(7)\n",
      "memory usage: 312.6+ KB\n"
     ]
    }
   ],
   "source": [
    "df_test.info()   # info ya nos informa que no hay valores nulos en este dataset"
   ]
  },
  {
   "cell_type": "code",
   "execution_count": 11,
   "metadata": {},
   "outputs": [
    {
     "name": "stdout",
     "output_type": "stream",
     "text": [
      "200000\n",
      "5000\n",
      "5000\n"
     ]
    }
   ],
   "source": [
    "print(len(df_train.review_id.value_counts()))\n",
    "print(len(df_test.review_id.value_counts()))\n",
    "print(len(df_dev.review_id.value_counts()))"
   ]
  },
  {
   "cell_type": "code",
   "execution_count": 12,
   "metadata": {},
   "outputs": [
    {
     "name": "stdout",
     "output_type": "stream",
     "text": [
      "[es_0031142    1\n",
      "es_0491702    1\n",
      "es_0531952    1\n",
      "es_0926091    1\n",
      "es_0098389    1\n",
      "             ..\n",
      "es_0911665    1\n",
      "es_0086525    1\n",
      "es_0267924    1\n",
      "es_0031128    1\n",
      "es_0083549    1\n",
      "Name: review_id, Length: 200000, dtype: int64]\n",
      "[200000]\n"
     ]
    }
   ],
   "source": [
    "print([df_train.review_id.value_counts()])\n",
    "print([df_train.review_id.value_counts().sum()])"
   ]
  },
  {
   "cell_type": "code",
   "execution_count": 13,
   "metadata": {},
   "outputs": [
    {
     "name": "stdout",
     "output_type": "stream",
     "text": [
      "179076\n",
      "4988\n",
      "4982\n"
     ]
    }
   ],
   "source": [
    "print(len(df_train.reviewer_id.value_counts()))\n",
    "print(len(df_test.reviewer_id.value_counts()))\n",
    "print(len(df_dev.reviewer_id.value_counts()))"
   ]
  },
  {
   "cell_type": "code",
   "execution_count": 14,
   "metadata": {},
   "outputs": [
    {
     "name": "stdout",
     "output_type": "stream",
     "text": [
      "[reviewer_es_0431022    7\n",
      "reviewer_es_0437514    7\n",
      "reviewer_es_0588051    7\n",
      "reviewer_es_0035822    6\n",
      "reviewer_es_0659252    6\n",
      "                      ..\n",
      "reviewer_es_0028897    1\n",
      "reviewer_es_0224021    1\n",
      "reviewer_es_0761537    1\n",
      "reviewer_es_0784839    1\n",
      "reviewer_es_0495090    1\n",
      "Name: reviewer_id, Length: 179076, dtype: int64]\n",
      "[200000]\n"
     ]
    }
   ],
   "source": [
    "print([df_train.reviewer_id.value_counts()])\n",
    "print([df_train.reviewer_id.value_counts().sum()])"
   ]
  },
  {
   "cell_type": "code",
   "execution_count": 15,
   "metadata": {},
   "outputs": [
    {
     "name": "stdout",
     "output_type": "stream",
     "text": [
      "150938\n",
      "4959\n",
      "4964\n"
     ]
    }
   ],
   "source": [
    "print(len(df_train.product_id.value_counts()))\n",
    "print(len(df_test.product_id.value_counts()))\n",
    "print(len(df_dev.product_id.value_counts()))"
   ]
  },
  {
   "cell_type": "code",
   "execution_count": 16,
   "metadata": {},
   "outputs": [
    {
     "name": "stdout",
     "output_type": "stream",
     "text": [
      "[product_es_0261843    8\n",
      "product_es_0568956    7\n",
      "product_es_0087077    7\n",
      "product_es_0616440    7\n",
      "product_es_0741712    7\n",
      "                     ..\n",
      "product_es_0759372    1\n",
      "product_es_0959311    1\n",
      "product_es_0575751    1\n",
      "product_es_0828860    1\n",
      "product_es_0468904    1\n",
      "Name: product_id, Length: 150938, dtype: int64]\n",
      "[200000]\n"
     ]
    }
   ],
   "source": [
    "print([df_train.product_id.value_counts()])\n",
    "print([df_train.product_id.value_counts().sum()])"
   ]
  },
  {
   "cell_type": "code",
   "execution_count": 17,
   "metadata": {},
   "outputs": [
    {
     "name": "stdout",
     "output_type": "stream",
     "text": [
      "['es']\n",
      "['es']\n",
      "['es']\n"
     ]
    }
   ],
   "source": [
    "print(df_train.language.unique())\n",
    "print(df_test.language.unique())\n",
    "print(df_dev.language.unique())"
   ]
  },
  {
   "cell_type": "code",
   "execution_count": 18,
   "metadata": {},
   "outputs": [
    {
     "name": "stdout",
     "output_type": "stream",
     "text": [
      "[1 2 3 4 5]\n",
      "[1 2 3 4 5]\n",
      "[1 2 3 4 5]\n"
     ]
    }
   ],
   "source": [
    "print(df_train.stars.unique())\n",
    "print(df_test.stars.unique())\n",
    "print(df_dev.stars.unique())"
   ]
  },
  {
   "cell_type": "code",
   "execution_count": 19,
   "metadata": {},
   "outputs": [
    {
     "name": "stdout",
     "output_type": "stream",
     "text": [
      "['electronics' 'drugstore' 'wireless' 'shoes' 'home' 'luggage'\n",
      " 'office_product' 'kitchen' 'pc' 'toy' 'industrial_supplies' 'furniture'\n",
      " 'pet_products' 'sports' 'home_improvement' 'grocery' 'lawn_and_garden'\n",
      " 'beauty' 'other' 'watch' 'automotive' 'book' 'apparel' 'video_games'\n",
      " 'camera' 'baby_product' 'personal_care_appliances' 'jewelry'\n",
      " 'digital_ebook_purchase' 'musical_instruments'] 30\n",
      "['wireless' 'home' 'toy' 'digital_ebook_purchase' 'pc' 'lawn_and_garden'\n",
      " 'sports' 'camera' 'home_improvement' 'apparel' 'automotive' 'drugstore'\n",
      " 'electronics' 'other' 'beauty' 'office_product' 'furniture' 'kitchen'\n",
      " 'shoes' 'video_games' 'personal_care_appliances' 'pet_products' 'book'\n",
      " 'jewelry' 'watch' 'luggage' 'baby_product' 'industrial_supplies'\n",
      " 'musical_instruments' 'grocery'] 30\n",
      "['wireless' 'apparel' 'sports' 'home_improvement' 'beauty' 'home'\n",
      " 'baby_product' 'pc' 'toy' 'book' 'personal_care_appliances' 'kitchen'\n",
      " 'lawn_and_garden' 'pet_products' 'drugstore' 'office_product' 'furniture'\n",
      " 'electronics' 'automotive' 'shoes' 'jewelry' 'luggage' 'camera'\n",
      " 'industrial_supplies' 'other' 'musical_instruments' 'grocery'\n",
      " 'digital_ebook_purchase' 'video_games' 'watch'] 30\n"
     ]
    }
   ],
   "source": [
    "print(df_train.product_category.unique(), len(df_train.product_category.unique()))\n",
    "print(df_test.product_category.unique(), len(df_test.product_category.unique()))\n",
    "print(df_dev.product_category.unique(), len(df_dev.product_category.unique()))"
   ]
  },
  {
   "cell_type": "code",
   "execution_count": 20,
   "metadata": {},
   "outputs": [
    {
     "data": {
      "image/png": "[encoded data removed]",
      "text/plain": [
       "<Figure size 576x360 with 1 Axes>"
      ]
     },
     "metadata": {},
     "output_type": "display_data"
    },
    {
     "data": {
      "image/png": "[encoded data removed]",
      "text/plain": [
       "<Figure size 576x360 with 1 Axes>"
      ]
     },
     "metadata": {},
     "output_type": "display_data"
    },
    {
     "data": {
      "image/png": "[encoded data removed]",
      "text/plain": [
       "<Figure size 576x360 with 1 Axes>"
      ]
     },
     "metadata": {},
     "output_type": "display_data"
    }
   ],
   "source": [
    "fig=plt.figure(figsize=(8, 5))\n",
    "sns.countplot(data=df_train, y='stars')\n",
    "plt.title('Gráfico Nro 1 = stars train')\n",
    "#plt.savefig('imagenes/stars_train.png', dpi=200)\n",
    "plt.show()\n",
    "\n",
    "fig=plt.figure(figsize=(8, 5))\n",
    "sns.countplot(data=df_test, y='stars')\n",
    "plt.title('Gráfico Nro 2 = stars test')\n",
    "#plt.savefig('imagenes/stars_test.png', dpi=200)\n",
    "plt.show()\n",
    "\n",
    "fig=plt.figure(figsize=(8, 5))\n",
    "sns.countplot(data=df_dev, y='stars')\n",
    "plt.title('Gráfico Nro 3 = stars dev')\n",
    "#plt.savefig('imagenes/stars_dev.png', dpi=200)\n",
    "plt.show()"
   ]
  },
  {
   "cell_type": "code",
   "execution_count": 21,
   "metadata": {},
   "outputs": [
    {
     "name": "stdout",
     "output_type": "stream",
     "text": [
      "[home                        26962\n",
      "wireless                    25886\n",
      "toy                         13647\n",
      "sports                      13189\n",
      "pc                          11191\n",
      "home_improvement            10879\n",
      "electronics                 10385\n",
      "beauty                       7337\n",
      "automotive                   7143\n",
      "kitchen                      6695\n",
      "apparel                      5737\n",
      "drugstore                    5513\n",
      "book                         5264\n",
      "furniture                    5229\n",
      "baby_product                 4881\n",
      "office_product               4771\n",
      "lawn_and_garden              4237\n",
      "other                        3937\n",
      "pet_products                 3713\n",
      "personal_care_appliances     3573\n",
      "luggage                      3328\n",
      "camera                       3029\n",
      "shoes                        2754\n",
      "digital_ebook_purchase       1843\n",
      "video_games                  1733\n",
      "jewelry                      1598\n",
      "musical_instruments          1530\n",
      "watch                        1490\n",
      "industrial_supplies          1482\n",
      "grocery                      1044\n",
      "Name: product_category, dtype: int64]\n",
      "[200000]\n"
     ]
    }
   ],
   "source": [
    "print([df_train.product_category.value_counts()])\n",
    "print([df_train.product_category.value_counts().sum()])\n"
   ]
  },
  {
   "cell_type": "code",
   "execution_count": 22,
   "metadata": {},
   "outputs": [
    {
     "data": {
      "image/png": "[encoded data removed]",
      "text/plain": [
       "<Figure size 576x360 with 1 Axes>"
      ]
     },
     "metadata": {},
     "output_type": "display_data"
    },
    {
     "data": {
      "image/png": "[encoded data removed]",
      "text/plain": [
       "<Figure size 576x360 with 1 Axes>"
      ]
     },
     "metadata": {},
     "output_type": "display_data"
    },
    {
     "data": {
      "image/png": "[encoded data removed]",
      "text/plain": [
       "<Figure size 576x360 with 1 Axes>"
      ]
     },
     "metadata": {},
     "output_type": "display_data"
    }
   ],
   "source": [
    "fig=plt.figure(figsize=(8, 5))\n",
    "sns.countplot(data=df_train, y='product_category', order = df_train['product_category'].value_counts().index)\n",
    "plt.title('Gráfico Nro 4 = product_category train')\n",
    "#plt.savefig('imagenes/product_category_train.png', dpi=200, bbox_inches='tight', pad_inches=0.3)\n",
    "plt.show()\n",
    "\n",
    "fig=plt.figure(figsize=(8, 5))\n",
    "sns.countplot(data=df_test, y='product_category', order = df_train['product_category'].value_counts().index)\n",
    "plt.title('Gráfico Nro 5 = product_category test')\n",
    "#plt.savefig('imagenes/product_category_test.png', dpi=200, bbox_inches='tight', pad_inches=0.3)\n",
    "plt.show()\n",
    "\n",
    "fig=plt.figure(figsize=(8, 5))\n",
    "sns.countplot(data=df_dev, y='product_category', order = df_train['product_category'].value_counts().index)\n",
    "plt.title('Gráfico Nro 6 = product_category dev')\n",
    "#plt.savefig('imagenes/product_category_dev.png', dpi=200, bbox_inches='tight', pad_inches=0.3)\n",
    "plt.show()"
   ]
  },
  {
   "cell_type": "code",
   "execution_count": 23,
   "metadata": {},
   "outputs": [
    {
     "name": "stdout",
     "output_type": "stream",
     "text": [
      "(200000, 4)\n"
     ]
    },
    {
     "data": {
      "text/html": [
       "<div>\n",
       "<style scoped>\n",
       "    .dataframe tbody tr th:only-of-type {\n",
       "        vertical-align: middle;\n",
       "    }\n",
       "\n",
       "    .dataframe tbody tr th {\n",
       "        vertical-align: top;\n",
       "    }\n",
       "\n",
       "    .dataframe thead th {\n",
       "        text-align: right;\n",
       "    }\n",
       "</style>\n",
       "<table border=\"1\" class=\"dataframe\">\n",
       "  <thead>\n",
       "    <tr style=\"text-align: right;\">\n",
       "      <th></th>\n",
       "      <th>stars</th>\n",
       "      <th>review_body</th>\n",
       "      <th>review_title</th>\n",
       "      <th>product_category</th>\n",
       "    </tr>\n",
       "  </thead>\n",
       "  <tbody>\n",
       "    <tr>\n",
       "      <th>0</th>\n",
       "      <td>1</td>\n",
       "      <td>Nada bueno se me fue ka pantalla en menos de 8...</td>\n",
       "      <td>television Nevir</td>\n",
       "      <td>electronics</td>\n",
       "    </tr>\n",
       "    <tr>\n",
       "      <th>1</th>\n",
       "      <td>1</td>\n",
       "      <td>Horrible, nos tuvimos que comprar otro porque ...</td>\n",
       "      <td>Dinero tirado a la basura con esta compra</td>\n",
       "      <td>electronics</td>\n",
       "    </tr>\n",
       "    <tr>\n",
       "      <th>2</th>\n",
       "      <td>1</td>\n",
       "      <td>Te obligan a comprar dos unidades y te llega s...</td>\n",
       "      <td>solo llega una unidad cuando te obligan a comp...</td>\n",
       "      <td>drugstore</td>\n",
       "    </tr>\n",
       "    <tr>\n",
       "      <th>3</th>\n",
       "      <td>1</td>\n",
       "      <td>No entro en descalificar al vendedor, solo pue...</td>\n",
       "      <td>PRODUCTO NO RECIBIDO.</td>\n",
       "      <td>wireless</td>\n",
       "    </tr>\n",
       "    <tr>\n",
       "      <th>4</th>\n",
       "      <td>1</td>\n",
       "      <td>Llega tarde y co la talla equivocada</td>\n",
       "      <td>Devuelto</td>\n",
       "      <td>shoes</td>\n",
       "    </tr>\n",
       "  </tbody>\n",
       "</table>\n",
       "</div>"
      ],
      "text/plain": [
       "   stars                                        review_body  \\\n",
       "0      1  Nada bueno se me fue ka pantalla en menos de 8...   \n",
       "1      1  Horrible, nos tuvimos que comprar otro porque ...   \n",
       "2      1  Te obligan a comprar dos unidades y te llega s...   \n",
       "3      1  No entro en descalificar al vendedor, solo pue...   \n",
       "4      1               Llega tarde y co la talla equivocada   \n",
       "\n",
       "                                        review_title product_category  \n",
       "0                                   television Nevir      electronics  \n",
       "1          Dinero tirado a la basura con esta compra      electronics  \n",
       "2  solo llega una unidad cuando te obligan a comp...        drugstore  \n",
       "3                              PRODUCTO NO RECIBIDO.         wireless  \n",
       "4                                           Devuelto            shoes  "
      ]
     },
     "execution_count": 23,
     "metadata": {},
     "output_type": "execute_result"
    }
   ],
   "source": [
    " # FILTRADO DE COLUMNAS\n",
    "df_train = df_train.filter([\"stars\",\"review_body\",\"review_title\", \"product_category\"])\n",
    "print(df_train.shape)\n",
    "df_train.head()"
   ]
  },
  {
   "cell_type": "code",
   "execution_count": 24,
   "metadata": {},
   "outputs": [
    {
     "name": "stdout",
     "output_type": "stream",
     "text": [
      "(5000, 4)\n"
     ]
    }
   ],
   "source": [
    " # FILTRADO DE COLUMNAS\n",
    "df_test = df_test.filter([\"stars\",\"review_body\",\"review_title\", \"product_category\"])\n",
    "print(df_test.shape)"
   ]
  },
  {
   "cell_type": "code",
   "execution_count": 25,
   "metadata": {},
   "outputs": [
    {
     "name": "stdout",
     "output_type": "stream",
     "text": [
      "(5000, 4)\n"
     ]
    }
   ],
   "source": [
    " # FILTRADO DE COLUMNAS\n",
    "df_dev = df_dev.filter([\"stars\",\"review_body\",\"review_title\", \"product_category\"])\n",
    "print(df_dev.shape)"
   ]
  },
  {
   "cell_type": "markdown",
   "metadata": {},
   "source": [
    "***Los gráficos de los 3 dataset nos muestran que están balanceados, tienen iguales distribuciones en todas sus instancias. No tienen valores nulos.*** "
   ]
  },
  {
   "cell_type": "markdown",
   "metadata": {},
   "source": [
    "## 2. PREPROCEZAMIENTO DE DATOS - NORMALIZAR\n"
   ]
  },
  {
   "cell_type": "markdown",
   "metadata": {},
   "source": [
    "### 2.1 Limpieza de caracteres."
   ]
  },
  {
   "cell_type": "code",
   "execution_count": 26,
   "metadata": {},
   "outputs": [
    {
     "name": "stdout",
     "output_type": "stream",
     "text": [
      "['de', 'la', 'que', 'el', 'en', 'y', 'a', 'los', 'del', 'se', 'las', 'por', 'un', 'para', 'con', 'no', 'una', 'su', 'al', 'lo', 'como', 'más', 'pero', 'sus', 'le', 'ya', 'o', 'este', 'sí', 'porque', 'esta', 'entre', 'cuando', 'muy', 'sin', 'sobre', 'también', 'me', 'hasta', 'hay', 'donde', 'quien', 'desde', 'todo', 'nos', 'durante', 'todos', 'uno', 'les', 'ni', 'contra', 'otros', 'ese', 'eso', 'ante', 'ellos', 'e', 'esto', 'mí', 'antes', 'algunos', 'qué', 'unos', 'yo', 'otro', 'otras', 'otra', 'él', 'tanto', 'esa', 'estos', 'mucho', 'quienes', 'nada', 'muchos', 'cual', 'poco', 'ella', 'estar', 'estas', 'algunas', 'algo', 'nosotros', 'mi', 'mis', 'tú', 'te', 'ti', 'tu', 'tus', 'ellas', 'nosotras', 'vosotros', 'vosotras', 'os', 'mío', 'mía', 'míos', 'mías', 'tuyo', 'tuya', 'tuyos', 'tuyas', 'suyo', 'suya', 'suyos', 'suyas', 'nuestro', 'nuestra', 'nuestros', 'nuestras', 'vuestro', 'vuestra', 'vuestros', 'vuestras', 'esos', 'esas', 'estoy', 'estás', 'está', 'estamos', 'estáis', 'están', 'esté', 'estés', 'estemos', 'estéis', 'estén', 'estaré', 'estarás', 'estará', 'estaremos', 'estaréis', 'estarán', 'estaría', 'estarías', 'estaríamos', 'estaríais', 'estarían', 'estaba', 'estabas', 'estábamos', 'estabais', 'estaban', 'estuve', 'estuviste', 'estuvo', 'estuvimos', 'estuvisteis', 'estuvieron', 'estuviera', 'estuvieras', 'estuviéramos', 'estuvierais', 'estuvieran', 'estuviese', 'estuvieses', 'estuviésemos', 'estuvieseis', 'estuviesen', 'estando', 'estado', 'estada', 'estados', 'estadas', 'estad', 'he', 'has', 'ha', 'hemos', 'habéis', 'han', 'haya', 'hayas', 'hayamos', 'hayáis', 'hayan', 'habré', 'habrás', 'habrá', 'habremos', 'habréis', 'habrán', 'habría', 'habrías', 'habríamos', 'habríais', 'habrían', 'había', 'habías', 'habíamos', 'habíais', 'habían', 'hube', 'hubiste', 'hubo', 'hubimos', 'hubisteis', 'hubieron', 'hubiera', 'hubieras', 'hubiéramos', 'hubierais', 'hubieran', 'hubiese', 'hubieses', 'hubiésemos', 'hubieseis', 'hubiesen', 'habiendo', 'habido', 'habida', 'habidos', 'habidas', 'soy', 'eres', 'es', 'somos', 'sois', 'son', 'sea', 'seas', 'seamos', 'seáis', 'sean', 'seré', 'serás', 'será', 'seremos', 'seréis', 'serán', 'sería', 'serías', 'seríamos', 'seríais', 'serían', 'era', 'eras', 'éramos', 'erais', 'eran', 'fui', 'fuiste', 'fue', 'fuimos', 'fuisteis', 'fueron', 'fuera', 'fueras', 'fuéramos', 'fuerais', 'fueran', 'fuese', 'fueses', 'fuésemos', 'fueseis', 'fuesen', 'sintiendo', 'sentido', 'sentida', 'sentidos', 'sentidas', 'siente', 'sentid', 'tengo', 'tienes', 'tiene', 'tenemos', 'tenéis', 'tienen', 'tenga', 'tengas', 'tengamos', 'tengáis', 'tengan', 'tendré', 'tendrás', 'tendrá', 'tendremos', 'tendréis', 'tendrán', 'tendría', 'tendrías', 'tendríamos', 'tendríais', 'tendrían', 'tenía', 'tenías', 'teníamos', 'teníais', 'tenían', 'tuve', 'tuviste', 'tuvo', 'tuvimos', 'tuvisteis', 'tuvieron', 'tuviera', 'tuvieras', 'tuviéramos', 'tuvierais', 'tuvieran', 'tuviese', 'tuvieses', 'tuviésemos', 'tuvieseis', 'tuviesen', 'teniendo', 'tenido', 'tenida', 'tenidos', 'tenidas', 'tened']\n"
     ]
    }
   ],
   "source": [
    "stopwords = nltk.corpus.stopwords.words('spanish')\n",
    "stopwords = [palabra for palabra in stopwords if 'not' not in palabra]\n",
    "print(stopwords)\n",
    "#stopword.remove('no')\n",
    "#stopword.remove('not')"
   ]
  },
  {
   "cell_type": "code",
   "execution_count": 27,
   "metadata": {},
   "outputs": [],
   "source": [
    "# Importamos esta libreria que nos permite reemplzar caracteres\n",
    "import re\n",
    "\n",
    "# Importamos la función que nos permite Stemmizar de nltk y definimos el stemmer\n",
    "from nltk.stem import PorterStemmer\n",
    "stemmer = PorterStemmer()\n",
    "\n"
   ]
  },
  {
   "cell_type": "code",
   "execution_count": 28,
   "metadata": {},
   "outputs": [
    {
     "name": "stdout",
     "output_type": "stream",
     "text": [
      "Wall time: 4min 23s\n"
     ]
    }
   ],
   "source": [
    "%%time\n",
    "# Recorremos todos los review_body y le vamos aplicando la Normalizacion y luega el Stemming a cada uno\n",
    "review_body_list=[]\n",
    "for review_body in df_train.review_body:\n",
    "    \n",
    "    # Vamos a reemplzar los caracteres que no sean letras por espacios\n",
    "    review_body=re.sub(\"[^a-zA-Z]\",\" \",str(review_body))\n",
    "    \n",
    "    # Pasamos todo a minúsculas\n",
    "    review_body=review_body.lower()\n",
    "    \n",
    "    # Tokenizamos para separar las palabraS\n",
    "    review_body=nltk.word_tokenize(review_body)\n",
    "    \n",
    "    # Eliminamos las palabras de menos de 3 letras\n",
    "    review_body = [palabra for palabra in review_body if len(palabra)>3]\n",
    "    \n",
    "    # Sacamos las Stopwords\n",
    "    review_body = [palabra for palabra in review_body if not palabra in stopwords]\n",
    "    \n",
    "    ## Hasta acá Normalizamos, ahora a stemmizar\n",
    "    \n",
    "    # Aplicamos la funcion para buscar la raiz de las palabras\n",
    "    review_body=[stemmer.stem(palabra) for palabra in review_body]\n",
    "    # Por ultimo volvemos a unir\n",
    "    review_bodyr=\" \".join(review_body)\n",
    "    \n",
    "    # Vamos armando una lista con todoS\n",
    "    review_body_list.append(review_body)\n",
    "    #df_train[\"review_body_normalizado\"] = review_body_list"
   ]
  },
  {
   "cell_type": "code",
   "execution_count": 29,
   "metadata": {},
   "outputs": [
    {
     "data": {
      "text/html": [
       "<div>\n",
       "<style scoped>\n",
       "    .dataframe tbody tr th:only-of-type {\n",
       "        vertical-align: middle;\n",
       "    }\n",
       "\n",
       "    .dataframe tbody tr th {\n",
       "        vertical-align: top;\n",
       "    }\n",
       "\n",
       "    .dataframe thead th {\n",
       "        text-align: right;\n",
       "    }\n",
       "</style>\n",
       "<table border=\"1\" class=\"dataframe\">\n",
       "  <thead>\n",
       "    <tr style=\"text-align: right;\">\n",
       "      <th></th>\n",
       "      <th>stars</th>\n",
       "      <th>review_body</th>\n",
       "      <th>review_title</th>\n",
       "      <th>product_category</th>\n",
       "      <th>review_body_stem</th>\n",
       "    </tr>\n",
       "  </thead>\n",
       "  <tbody>\n",
       "    <tr>\n",
       "      <th>199995</th>\n",
       "      <td>5</td>\n",
       "      <td>Mando funciona perfectamente y cumple con toda...</td>\n",
       "      <td>Tal y como se describe</td>\n",
       "      <td>electronics</td>\n",
       "      <td>[mando, funciona, perfectament, cumpl, toda, f...</td>\n",
       "    </tr>\n",
       "    <tr>\n",
       "      <th>199996</th>\n",
       "      <td>5</td>\n",
       "      <td>Compré la batería con cierta reticencia, pero ...</td>\n",
       "      <td>Funciona perfectamente</td>\n",
       "      <td>electronics</td>\n",
       "      <td>[compr, bater, cierta, reticencia, result, ins...</td>\n",
       "    </tr>\n",
       "    <tr>\n",
       "      <th>199997</th>\n",
       "      <td>5</td>\n",
       "      <td>Buena calidad. Satisfecha con la compra.</td>\n",
       "      <td>Buena calidad.</td>\n",
       "      <td>apparel</td>\n",
       "      <td>[buena, calidad, satisfecha, compra]</td>\n",
       "    </tr>\n",
       "    <tr>\n",
       "      <th>199998</th>\n",
       "      <td>5</td>\n",
       "      <td>Perfecto para el cumple de mi hijo</td>\n",
       "      <td>Recomendado</td>\n",
       "      <td>toy</td>\n",
       "      <td>[perfecto, cumpl, hijo]</td>\n",
       "    </tr>\n",
       "    <tr>\n",
       "      <th>199999</th>\n",
       "      <td>5</td>\n",
       "      <td>Súper bien! Las brochas son buenas, no sé meno...</td>\n",
       "      <td>Preciosas</td>\n",
       "      <td>home</td>\n",
       "      <td>[bien, brocha, buena, meno, pelito, quiz, pesa...</td>\n",
       "    </tr>\n",
       "  </tbody>\n",
       "</table>\n",
       "</div>"
      ],
      "text/plain": [
       "        stars                                        review_body  \\\n",
       "199995      5  Mando funciona perfectamente y cumple con toda...   \n",
       "199996      5  Compré la batería con cierta reticencia, pero ...   \n",
       "199997      5           Buena calidad. Satisfecha con la compra.   \n",
       "199998      5                 Perfecto para el cumple de mi hijo   \n",
       "199999      5  Súper bien! Las brochas son buenas, no sé meno...   \n",
       "\n",
       "                  review_title product_category  \\\n",
       "199995  Tal y como se describe      electronics   \n",
       "199996  Funciona perfectamente      electronics   \n",
       "199997          Buena calidad.          apparel   \n",
       "199998             Recomendado              toy   \n",
       "199999               Preciosas             home   \n",
       "\n",
       "                                         review_body_stem  \n",
       "199995  [mando, funciona, perfectament, cumpl, toda, f...  \n",
       "199996  [compr, bater, cierta, reticencia, result, ins...  \n",
       "199997               [buena, calidad, satisfecha, compra]  \n",
       "199998                            [perfecto, cumpl, hijo]  \n",
       "199999  [bien, brocha, buena, meno, pelito, quiz, pesa...  "
      ]
     },
     "execution_count": 29,
     "metadata": {},
     "output_type": "execute_result"
    }
   ],
   "source": [
    "df_train[\"review_body_stem\"] = review_body_list\n",
    "df_train.tail()"
   ]
  },
  {
   "cell_type": "code",
   "execution_count": 30,
   "metadata": {},
   "outputs": [
    {
     "data": {
      "text/html": [
       "<div>\n",
       "<style scoped>\n",
       "    .dataframe tbody tr th:only-of-type {\n",
       "        vertical-align: middle;\n",
       "    }\n",
       "\n",
       "    .dataframe tbody tr th {\n",
       "        vertical-align: top;\n",
       "    }\n",
       "\n",
       "    .dataframe thead th {\n",
       "        text-align: right;\n",
       "    }\n",
       "</style>\n",
       "<table border=\"1\" class=\"dataframe\">\n",
       "  <thead>\n",
       "    <tr style=\"text-align: right;\">\n",
       "      <th></th>\n",
       "      <th>review_body_stem</th>\n",
       "      <th>stars</th>\n",
       "    </tr>\n",
       "  </thead>\n",
       "  <tbody>\n",
       "    <tr>\n",
       "      <th>0</th>\n",
       "      <td>[bueno, pantalla, meno, mese, recibido, respue...</td>\n",
       "      <td>1</td>\n",
       "    </tr>\n",
       "    <tr>\n",
       "      <th>1</th>\n",
       "      <td>[horribl, comprar, sabemo, ingl, inform, tico,...</td>\n",
       "      <td>1</td>\n",
       "    </tr>\n",
       "    <tr>\n",
       "      <th>2</th>\n",
       "      <td>[obligan, comprar, unidad, llega, solo, forma,...</td>\n",
       "      <td>1</td>\n",
       "    </tr>\n",
       "    <tr>\n",
       "      <th>3</th>\n",
       "      <td>[entro, descalificar, vendedor, solo, puedo, d...</td>\n",
       "      <td>1</td>\n",
       "    </tr>\n",
       "    <tr>\n",
       "      <th>4</th>\n",
       "      <td>[llega, tard, talla, equivocada]</td>\n",
       "      <td>1</td>\n",
       "    </tr>\n",
       "  </tbody>\n",
       "</table>\n",
       "</div>"
      ],
      "text/plain": [
       "                                    review_body_stem  stars\n",
       "0  [bueno, pantalla, meno, mese, recibido, respue...      1\n",
       "1  [horribl, comprar, sabemo, ingl, inform, tico,...      1\n",
       "2  [obligan, comprar, unidad, llega, solo, forma,...      1\n",
       "3  [entro, descalificar, vendedor, solo, puedo, d...      1\n",
       "4                   [llega, tard, talla, equivocada]      1"
      ]
     },
     "execution_count": 30,
     "metadata": {},
     "output_type": "execute_result"
    }
   ],
   "source": [
    "df_train_stem = pd.concat([df_train.review_body_stem,df_train.stars],axis=1)\n",
    "df_train_stem.dropna(axis=0,inplace=True)  # Por si quedaron vacios  \n",
    "df_train_stem.head()"
   ]
  },
  {
   "cell_type": "code",
   "execution_count": 31,
   "metadata": {},
   "outputs": [],
   "source": [
    "# guardar....\n",
    "df_train_stem.to_csv('df_train_stem.csv', index=False)\n"
   ]
  },
  {
   "cell_type": "markdown",
   "metadata": {},
   "source": [
    "## 3. VECTORIZACION"
   ]
  },
  {
   "cell_type": "code",
   "execution_count": 32,
   "metadata": {},
   "outputs": [],
   "source": [
    "from sklearn.feature_extraction.text import CountVectorizer\n",
    "\n",
    "# Usaremos solo las 1000 palabras con mas frecuencia en todo el corpus para generar los vectores\n",
    "max_features=1000\n",
    "\n",
    "# Es decir que cada instancia tendrá 1000 features\n",
    "cou_vec=CountVectorizer(max_features=max_features) # stop_words=\"english\" , ngram_range=(1, 2)"
   ]
  },
  {
   "cell_type": "code",
   "execution_count": 33,
   "metadata": {},
   "outputs": [],
   "source": [
    "review_body = df_train_stem['review_body_stem'] "
   ]
  },
  {
   "cell_type": "code",
   "execution_count": 34,
   "metadata": {},
   "outputs": [],
   "source": [
    "matriz_reviews = cou_vec.fit_transform(list ( df_train_stem['review_body_stem'] .astype('U').values))"
   ]
  },
  {
   "cell_type": "code",
   "execution_count": 35,
   "metadata": {},
   "outputs": [
    {
     "name": "stdout",
     "output_type": "stream",
     "text": [
      "50 palabras mas usadas:  ['abajo', 'abierta', 'abierto', 'abr', 'abrir', 'abrirlo', 'absoluto', 'acaba', 'acabado', 'acabo', 'accesorio', 'aceit', 'acept', 'aconsejo', 'adapta', 'adaptador', 'adecuada', 'adecuado', 'adem', 'adema', 'adhesivo', 'agarr', 'agrad', 'agua', 'aguanta', 'agujero', 'ahora', 'air', 'ajust', 'ajusta', 'ajustan', 'ajustar', 'alguien', 'alguna', 'alta', 'altavoz', 'alto', 'altura', 'amazon', 'ancho', 'anterior', 'anuncio', 'apaga', 'apagado', 'aparato', 'aparec', 'apart', 'apena', 'aplicaci', 'appl']\n"
     ]
    }
   ],
   "source": [
    "# Tomamos las palabras\n",
    "all_words = cou_vec.get_feature_names()\n",
    "\n",
    "# Vizualizamos las 50 palabras mas usadas\n",
    "print(\"50 palabras mas usadas: \",all_words[0:50])"
   ]
  },
  {
   "cell_type": "markdown",
   "metadata": {},
   "source": [
    "## 4. MODELAR"
   ]
  },
  {
   "cell_type": "markdown",
   "metadata": {},
   "source": [
    "***VAMOS A USAR UN MODELO DE CLASIFICACION.***"
   ]
  },
  {
   "cell_type": "code",
   "execution_count": 36,
   "metadata": {},
   "outputs": [],
   "source": [
    "#stemmizado\n",
    "\n",
    "df_train_stem.loc[ df_train_stem.stars == 1, 'label'] = \"negativo\"\n",
    "df_train_stem.loc[ df_train_stem.stars == 2, 'label'] = \"negativo\"\n",
    "df_train_stem.loc[ df_train_stem.stars == 3, 'label'] = \"negativo\"\n",
    "df_train_stem.loc[ df_train_stem.stars == 4, 'label'] = \"positivo\"\n",
    "df_train_stem.loc[ df_train_stem.stars == 5, 'label'] = \"positivo\"\n",
    "\n",
    "# mas codigo a veces explica mejor el problema.\n",
    "# otra opcion utilizar query filter"
   ]
  },
  {
   "cell_type": "code",
   "execution_count": 38,
   "metadata": {},
   "outputs": [],
   "source": [
    "x = matriz_reviews.toarray()\n",
    "y = df_train_stem ['label'] \n",
    "\n",
    "from sklearn.model_selection import train_test_split\n",
    "xtrain, xtest, ytrain, ytest = train_test_split(x,y,test_size=0.2,random_state=42,stratify=y)"
   ]
  },
  {
   "cell_type": "code",
   "execution_count": 39,
   "metadata": {},
   "outputs": [],
   "source": [
    "from sklearn.metrics import confusion_matrix\n",
    "import seaborn as sns\n",
    "\n",
    "def confusion(ytest,y_pred):\n",
    "    names=[\"negativo\",\"positivo\"]\n",
    "    cm=confusion_matrix(ytest,y_pred)\n",
    "    f,ax=plt.subplots(figsize=(5,5))\n",
    "    sns.heatmap(cm,annot=True,linewidth=.5,linecolor=\"r\",fmt=\".0f\",ax=ax)\n",
    "    plt.xlabel(\"y_pred\")\n",
    "    plt.ylabel(\"y_true\")\n",
    "    ax.set_xticklabels(names)\n",
    "    ax.set_yticklabels(names)\n",
    "    plt.show()\n",
    "\n",
    "    return"
   ]
  },
  {
   "cell_type": "markdown",
   "metadata": {},
   "source": [
    "### Naive Bayes\n",
    "a. Empecemos por un simple Naive Bayes para tener un benchmark de referencia para el accuracy."
   ]
  },
  {
   "cell_type": "code",
   "execution_count": 40,
   "metadata": {},
   "outputs": [
    {
     "name": "stdout",
     "output_type": "stream",
     "text": [
      "acc :  0.6807\n"
     ]
    }
   ],
   "source": [
    "from sklearn.naive_bayes import GaussianNB\n",
    "nb = GaussianNB()\n",
    "nb.fit(xtrain,ytrain)\n",
    "print(\"acc : \", nb.score(xtest,ytest))"
   ]
  },
  {
   "cell_type": "code",
   "execution_count": 41,
   "metadata": {},
   "outputs": [
    {
     "data": {
      "image/png": "[encoded data removed]",
      "text/plain": [
       "<Figure size 360x360 with 2 Axes>"
      ]
     },
     "metadata": {},
     "output_type": "display_data"
    }
   ],
   "source": [
    "y_pred=nb.predict(xtest)\n",
    "confusion(ytest,y_pred)"
   ]
  },
  {
   "cell_type": "markdown",
   "metadata": {},
   "source": [
    "### Random Forest\n",
    "a. Veamos cómo funciona un random forest para predecir"
   ]
  },
  {
   "cell_type": "code",
   "execution_count": 42,
   "metadata": {},
   "outputs": [
    {
     "name": "stdout",
     "output_type": "stream",
     "text": [
      "acc:  0.77705\n",
      "Wall time: 38min 59s\n",
      "Parser   : 426 ms\n"
     ]
    }
   ],
   "source": [
    "%%time\n",
    "from sklearn.ensemble import RandomForestClassifier\n",
    "from sklearn.metrics import confusion_matrix\n",
    "\n",
    "rf = RandomForestClassifier(n_estimators = 50, random_state=42)\n",
    "rf.fit(xtrain,ytrain)\n",
    "print(\"acc: \",rf.score(xtest,ytest))\n",
    "\n",
    "#acc:  0.77705\n",
    "#Wall time: 15min 30s(con 16gb de memoria) -wall time: 38min 59s Parser:426 ms(con 4gb)"
   ]
  },
  {
   "cell_type": "code",
   "execution_count": 43,
   "metadata": {},
   "outputs": [
    {
     "data": {
      "image/png": "[encoded data removed]",
      "text/plain": [
       "<Figure size 360x360 with 2 Axes>"
      ]
     },
     "metadata": {},
     "output_type": "display_data"
    }
   ],
   "source": [
    "y_pred=rf.predict(xtest)\n",
    "confusion(ytest,y_pred)"
   ]
  },
  {
   "cell_type": "code",
   "execution_count": 44,
   "metadata": {},
   "outputs": [
    {
     "name": "stderr",
     "output_type": "stream",
     "text": [
      "C:\\Users\\machk\\miniconda3\\envs\\CursoDataScienceP7\\lib\\site-packages\\seaborn\\_decorators.py:43: FutureWarning: Pass the following variables as keyword args: x, y. From version 0.12, the only valid positional argument will be `data`, and passing other arguments without an explicit keyword will result in an error or misinterpretation.\n",
      "  FutureWarning\n"
     ]
    },
    {
     "data": {
      "image/png": "[encoded data removed]",
      "text/plain": [
       "<Figure size 1080x576 with 1 Axes>"
      ]
     },
     "metadata": {},
     "output_type": "display_data"
    }
   ],
   "source": [
    "# Le preguntamos la importancia de cada feature (cada palabra)\n",
    "importances = rf.feature_importances_\n",
    "# Tomamos la lista de palabras\n",
    "all_words = cou_vec.get_feature_names()\n",
    "columns = all_words\n",
    "\n",
    "# Ordenamos por importnacia y tomamos las 20 primeras\n",
    "indices = np.argsort(importances)[::-1]\n",
    "indices = indices[:20]\n",
    "selected_columns = [columns[i] for i in indices]\n",
    "selected_importances = importances[indices]\n",
    "\n",
    "# Por ultimo graficamos\n",
    "plt.figure(figsize = (15,8))\n",
    "sns.barplot(selected_columns, selected_importances)\n",
    "plt.show()"
   ]
  },
  {
   "cell_type": "markdown",
   "metadata": {},
   "source": [
    "### SVM\n",
    "Por último vamos a utilizar uno de los modelos mas prometedores para este tipo de datos donde el numero de features es comparable al número de instancias: SVM.\n",
    "a. Entrene un modelo de SVM Lineal y calcule su accuracy para C = 1."
   ]
  },
  {
   "cell_type": "code",
   "execution_count": 45,
   "metadata": {},
   "outputs": [
    {
     "name": "stderr",
     "output_type": "stream",
     "text": [
      "C:\\Users\\machk\\miniconda3\\envs\\CursoDataScienceP7\\lib\\site-packages\\sklearn\\svm\\_base.py:986: ConvergenceWarning: Liblinear failed to converge, increase the number of iterations.\n",
      "  \"the number of iterations.\", ConvergenceWarning)\n"
     ]
    },
    {
     "name": "stdout",
     "output_type": "stream",
     "text": [
      "Wall time: 5min 25s\n",
      "Parser   : 207 ms\n"
     ]
    },
    {
     "data": {
      "text/plain": [
       "0.79745"
      ]
     },
     "execution_count": 45,
     "metadata": {},
     "output_type": "execute_result"
    }
   ],
   "source": [
    "%%time\n",
    "# Notar que en vez de utilizar SVC, vamos a usar LinearSVC. \n",
    "# Para el Kernel Lineal, esta función es MUCHO mas rapida que la tradicional SVC.\n",
    "from sklearn.svm import LinearSVC\n",
    "\n",
    "svc = LinearSVC(C = 1)\n",
    "svc.fit(xtrain,ytrain)\n",
    "svc.score(xtest,ytest)"
   ]
  },
  {
   "cell_type": "code",
   "execution_count": null,
   "metadata": {},
   "outputs": [],
   "source": [
    "y_pred=svc.predict(xtest)\n",
    "confusion(ytest,y_pred)"
   ]
  },
  {
   "cell_type": "code",
   "execution_count": null,
   "metadata": {},
   "outputs": [],
   "source": []
  },
  {
   "cell_type": "code",
   "execution_count": null,
   "metadata": {},
   "outputs": [],
   "source": []
  },
  {
   "cell_type": "code",
   "execution_count": null,
   "metadata": {},
   "outputs": [],
   "source": [
    "#dump guardar modelos\n",
    "#load capturar o traer modelo\n",
    "\n",
    "##########################\n",
    "# SAVE-LOAD using joblib #\n",
    "##########################\n",
    "from joblib import dump, load"
   ]
  },
  {
   "cell_type": "code",
   "execution_count": null,
   "metadata": {},
   "outputs": [],
   "source": [
    "# SAVE nb(nombre modelo)\n",
    "dump(nb, 'nb.joblib')\n",
    "\n",
    "# otra opcion para guardar modelos preentrenados\n",
    "#https://scikit-learn.org/stable/modules/model_persistence.html"
   ]
  },
  {
   "cell_type": "code",
   "execution_count": null,
   "metadata": {},
   "outputs": [],
   "source": [
    "# LOAD\n",
    "nb = load('nb.joblib')\n"
   ]
  },
  {
   "cell_type": "markdown",
   "metadata": {},
   "source": [
    "## 7. Explora las posibilidades\n",
    "\n",
    "Si llegaste hasta acá, ya cuentas con todas las herramientas para poder explorar qué sucede con el poder predictivo cuando van cambiando la manera en que procesas y vectorizas el texto. Algunas sugerencias para explorar son las siguientes:\n",
    "\n",
    "1. Prueba con Stemmizar en vez de lemmantizar\n",
    "1. Cambia el numero de features que esta tomando.\n",
    "1. Prueba con TF-IDF.\n",
    "1. Incluye los 2-gramas. ¿Qué era eso?   -------- 2 palabras describen el problema mejor que una\n",
    "1. Conserve los signos de exclamación y pregunta del texto"
   ]
  },
  {
   "cell_type": "code",
   "execution_count": null,
   "metadata": {},
   "outputs": [],
   "source": []
  },
  {
   "cell_type": "markdown",
   "metadata": {},
   "source": [
    "***LEMMATIZAR CON SPACY***\n",
    "\n"
   ]
  },
  {
   "cell_type": "code",
   "execution_count": null,
   "metadata": {},
   "outputs": [],
   "source": [
    "df_train=df_train[['review_title','review_body','product_category','stars']]\n",
    "df_test=df_test[['review_title','review_body','product_category','stars']]\n",
    "df_dev=df_dev[['review_title','review_body','product_category','stars']]"
   ]
  },
  {
   "cell_type": "code",
   "execution_count": null,
   "metadata": {},
   "outputs": [],
   "source": [
    "import spacy\n",
    "from spacy.lang.es.examples import sentences \n",
    "\n",
    "nlp = spacy.load(\"es_core_news_sm\")\n",
    "doc = nlp(sentences[0])\n"
   ]
  },
  {
   "cell_type": "code",
   "execution_count": null,
   "metadata": {},
   "outputs": [],
   "source": []
  },
  {
   "cell_type": "code",
   "execution_count": null,
   "metadata": {},
   "outputs": [],
   "source": [
    "def cleaner(df, columna='review_body'):\n",
    "    # Regex patrón solo para caracteres alphanumericos, texto con guiones con 2 o más caracteres\n",
    "    pattern = re.compile(r\"[A-Za-z0-9\\-]{2,50}\")\n",
    "    df[columna+'_clean'] = df[columna].str.findall(pattern).str.join(' ')\n",
    "    return df"
   ]
  },
  {
   "cell_type": "code",
   "execution_count": null,
   "metadata": {},
   "outputs": [],
   "source": [
    "cleaner(df_train, 'review_body')\n",
    "cleaner(df_train, 'review_title')\n",
    "\n",
    "cleaner(df_test, 'review_body')\n",
    "cleaner(df_test, 'review_title')\n",
    "\n",
    "cleaner(df_dev, 'review_body')\n",
    "cleaner(df_dev, 'review_title');"
   ]
  },
  {
   "cell_type": "code",
   "execution_count": null,
   "metadata": {},
   "outputs": [],
   "source": [
    "def lemma(x):\n",
    "    doc=nlp(x)\n",
    "    titular=[token.lemma_ for token in doc]\n",
    "    return titular"
   ]
  },
  {
   "cell_type": "code",
   "execution_count": null,
   "metadata": {},
   "outputs": [],
   "source": [
    "%%time\n",
    "df_test['body_lemma']=df_test.review_body_clean.apply(lambda x: lemma(x))"
   ]
  },
  {
   "cell_type": "code",
   "execution_count": null,
   "metadata": {},
   "outputs": [],
   "source": [
    "def lemmatize_pipe(doc):\n",
    "    lemma_list = [str(tok.lemma_).lower() for tok in doc]\n",
    "#                   if tok.is_alpha and tok.text.lower() not in stopwords] \n",
    "    return lemma_list\n",
    "\n",
    "def preprocess_pipe(texts):\n",
    "    preproc_pipe = []\n",
    "    for doc in nlp.pipe(texts, batch_size=10000):\n",
    "        preproc_pipe.append(lemmatize_pipe(doc))\n",
    "    return preproc_pipe"
   ]
  },
  {
   "cell_type": "code",
   "execution_count": null,
   "metadata": {},
   "outputs": [],
   "source": [
    "%%time\n",
    "df_test['review_body_lemma'] = preprocess_pipe(df_test['review_body_clean'])"
   ]
  },
  {
   "cell_type": "code",
   "execution_count": null,
   "metadata": {},
   "outputs": [],
   "source": [
    "df_test.head()"
   ]
  },
  {
   "cell_type": "markdown",
   "metadata": {},
   "source": [
    "## 3. VECTORIZACION CON TFIDF"
   ]
  },
  {
   "cell_type": "code",
   "execution_count": null,
   "metadata": {},
   "outputs": [],
   "source": [
    "from sklearn.feature_extraction.text import TfidfVectorizer\n",
    "from nltk.corpus import stopwords\n",
    "\n",
    "tfidfvectorizer = TfidfVectorizer(analyzer='word', stop_words=stopwords.words(\"spanish\"), ngram_range=(1, 1), max_df=1.0, min_df=0.2, max_features=500)\n",
    "\n",
    "txt_fitted = tfidfvectorizer.fit(df_propiedades_filtrado['description_clean'].values.astype('U'))\n",
    "txt_transformed = txt_fitted.transform(df_propiedades_filtrado['description_clean'].values.astype('U'))  # hacer con columna lemm o stemm\n",
    "\n",
    "tfidf_tokens = tfidfvectorizer.get_feature_names()\n",
    "\n",
    "# Imprimimos las features\n",
    "print(\"Atributos:\\n{}\".format(tfidfvectorizer.get_feature_names()))"
   ]
  },
  {
   "cell_type": "code",
   "execution_count": null,
   "metadata": {},
   "outputs": [],
   "source": []
  },
  {
   "cell_type": "code",
   "execution_count": null,
   "metadata": {},
   "outputs": [],
   "source": []
  },
  {
   "cell_type": "code",
   "execution_count": null,
   "metadata": {},
   "outputs": [],
   "source": []
  },
  {
   "cell_type": "code",
   "execution_count": null,
   "metadata": {},
   "outputs": [],
   "source": [
    "#dump guardar modelos\n",
    "#load capturar o traer modelo\n",
    "\n",
    "\n",
    "##########################\n",
    "# SAVE-LOAD using joblib #\n",
    "##########################\n",
    "from joblib import dump, load\n"
   ]
  },
  {
   "cell_type": "code",
   "execution_count": null,
   "metadata": {},
   "outputs": [],
   "source": [
    "# SAVE nb(nombre modelo)\n",
    "dump(nb, 'nb.joblib')\n",
    "\n",
    "# otra opcion para guardar modelos preentrenados\n",
    "#https://scikit-learn.org/stable/modules/model_persistence.html"
   ]
  },
  {
   "cell_type": "code",
   "execution_count": null,
   "metadata": {},
   "outputs": [],
   "source": []
  },
  {
   "cell_type": "code",
   "execution_count": null,
   "metadata": {},
   "outputs": [],
   "source": [
    "# LOAD\n",
    "nb = load('nb.joblib')\n"
   ]
  },
  {
   "cell_type": "code",
   "execution_count": null,
   "metadata": {},
   "outputs": [],
   "source": [
    "from sinfo import sinfo\n",
    "sinfo()"
   ]
  },
  {
   "cell_type": "code",
   "execution_count": null,
   "metadata": {},
   "outputs": [],
   "source": []
  }
 ],
 "metadata": {
  "colab": {
   "collapsed_sections": [],
   "name": "DS_Proyecto_03_NLP.ipynb",
   "provenance": []
  },
  "kernelspec": {
   "display_name": "Python 3",
   "language": "python",
   "name": "python3"
  },
  "language_info": {
   "codemirror_mode": {
    "name": "ipython",
    "version": 3
   },
   "file_extension": ".py",
   "mimetype": "text/x-python",
   "name": "python",
   "nbconvert_exporter": "python",
   "pygments_lexer": "ipython3",
   "version": "3.7.9"
  }
 },
 "nbformat": 4,
 "nbformat_minor": 4
}
